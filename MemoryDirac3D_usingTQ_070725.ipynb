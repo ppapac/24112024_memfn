{
 "cells": [
  {
   "cell_type": "code",
   "execution_count": 116,
   "metadata": {},
   "outputs": [],
   "source": [
    "import itertools\n",
    "import csv\n",
    "\n",
    "import numpy as np\n",
    "import matplotlib.pyplot as plt\n",
    "import scipy.integrate as integrate\n",
    "from torchquad import set_up_backend, Trapezoid, Simpson, MonteCarlo\n",
    "import torch\n",
    "from torch import exp, sin, cos"
   ]
  },
  {
   "cell_type": "code",
   "execution_count": 117,
   "metadata": {},
   "outputs": [],
   "source": [
    "set_up_backend(\"torch\", data_type=\"float32\")\n",
    "tp = Trapezoid()"
   ]
  },
  {
   "cell_type": "markdown",
   "metadata": {},
   "source": [
    "## Konstante i osnovne funkcije"
   ]
  },
  {
   "cell_type": "code",
   "execution_count": 132,
   "metadata": {},
   "outputs": [],
   "source": [
    "kb = 8.6173303 * 10 ** (-5)\n",
    "hbar = 6.582119569 * 10 ** (-16)\n",
    "pi = np.pi\n",
    "\n",
    "alpha_op = 0.4\n",
    "alpha_ac = 1\n",
    "hbar_w_op = torch.Tensor([0.4]).to(\"cuda\")\n",
    "eta_0 = 1 * 10 ** (-3)\n",
    "M = 0.0\n",
    "Kf_20 = 0.2  # eV, Fermi at 20K\n",
    "vf = 4 * 10**5\n",
    "a = 100 ** (1 / 3) * 10 ** (-10)\n",
    "T_0 = 4\n",
    "T_F = Kf_20 / kb\n",
    "n = 10 ^ 30\n",
    "\n",
    "Kf_ = Kf_20 / hbar / vf * a  # Fermi unitless\n",
    "Kf_max = 1 / hbar / vf * a  # cutoff 1eV unitless\n",
    "c_s_tilde = 0.03  # hbar_w_ac_max / hbar / vf * a\n",
    "hbar_w_ac_max = c_s_tilde * hbar * vf / a\n",
    "G_op2 = alpha_op\n",
    "G_ac2 = alpha_ac * hbar * vf / a\n",
    "\n",
    "\n",
    "Ef = torch.sqrt(torch.FloatTensor([Kf_20**2 + M**2])).to(\"cuda\")"
   ]
  },
  {
   "cell_type": "code",
   "execution_count": 119,
   "metadata": {},
   "outputs": [],
   "source": [
    "def arrays_to_csv(array1, array2, name):\n",
    "    with open(f\"{name}.csv\", \"w\", newline=\"\") as file:\n",
    "        writer = csv.writer(file)\n",
    "        for a1, a2 in zip(array1, array2):\n",
    "            writer.writerow([round(a1, 5), a2])"
   ]
  },
  {
   "cell_type": "code",
   "execution_count": 140,
   "metadata": {},
   "outputs": [],
   "source": [
    "def fermi_dirac(E, Ef, T):\n",
    "    if T > 0:\n",
    "        return torch.where(\n",
    "            E > Ef,\n",
    "            exp((-E + Ef) / (kb * T)) / (exp((-E + Ef) / (kb * T)) + 1),\n",
    "            1 / (exp((E - Ef) / (kb * T)) + 1),\n",
    "        )\n",
    "    else:\n",
    "        return torch.where(E > Ef, 0, 1)\n",
    "\n",
    "\n",
    "def d_fermi_dirac(E, Ef, T):\n",
    "    return 1 / kb / T * fermi_dirac(E, Ef, T) * (1 - fermi_dirac(E, Ef, T))\n",
    "\n",
    "\n",
    "def bose_einstein(E, T):\n",
    "    assert T > 0\n",
    "    return exp(-E / (kb * T)) / (-exp(-E / (kb * T)) + 1)\n",
    "\n",
    "\n",
    "def chemical_potential(T):\n",
    "    return (\n",
    "        Ef\n",
    "        - pi**2 / 6 * (2 * Ef**2 - M**2) / Ef / (Ef**2 - M**2) * (kb * T) ** 2\n",
    "        - 7 / 360 * pi**4 * 3 * M**4 / Ef / (Ef**2 - M**2) ** 3 * (kb * T) ** 4\n",
    "    )\n",
    "\n",
    "\n",
    "def eps(K):\n",
    "    arg = hbar**2 * vf**2 / a**2 * K**2 + M**2\n",
    "    if isinstance(K, torch.Tensor):\n",
    "        return torch.sqrt(arg)\n",
    "    else:\n",
    "        return np.sqrt(arg)\n",
    "\n",
    "\n",
    "def eff_concetration(T):\n",
    "    def integrand(k):\n",
    "        return 2 / hbar / vf / a**2 * fermi_dirac(eps(k), Ef, T) * k\n",
    "\n",
    "    return (\n",
    "        4\n",
    "        * pi\n",
    "        / 3\n",
    "        * 2\n",
    "        / (2 * pi) ** 3\n",
    "        * vf**2\n",
    "        * integrate.quad(integrand, 0, Kf_max, limit=80000)[0]\n",
    "    )"
   ]
  },
  {
   "cell_type": "code",
   "execution_count": 141,
   "metadata": {},
   "outputs": [
    {
     "name": "stdout",
     "output_type": "stream",
     "text": [
      "True\n"
     ]
    }
   ],
   "source": [
    "K = torch.Tensor([3])\n",
    "print(isinstance(K, torch.Tensor))"
   ]
  },
  {
   "cell_type": "code",
   "execution_count": 142,
   "metadata": {},
   "outputs": [
    {
     "name": "stdout",
     "output_type": "stream",
     "text": [
      "1.1843544863015165e+37\n",
      "1.184354454914293e+37\n"
     ]
    }
   ],
   "source": [
    "print(eff_concetration(0))  # T=0 numerički\n",
    "print(4 * pi / 3 * 2 / (2 * pi) ** 3 * Kf_20**2 / hbar**3 / vf)  # T=0 analitički"
   ]
  },
  {
   "cell_type": "code",
   "execution_count": 143,
   "metadata": {},
   "outputs": [
    {
     "name": "stderr",
     "output_type": "stream",
     "text": [
      "<>:76: SyntaxWarning: invalid escape sequence '\\e'\n",
      "<>:83: SyntaxWarning: invalid escape sequence '\\e'\n",
      "<>:92: SyntaxWarning: invalid escape sequence '\\e'\n",
      "<>:76: SyntaxWarning: invalid escape sequence '\\e'\n",
      "<>:83: SyntaxWarning: invalid escape sequence '\\e'\n",
      "<>:92: SyntaxWarning: invalid escape sequence '\\e'\n",
      "C:\\Users\\Patrik\\AppData\\Local\\Temp\\ipykernel_6396\\4046195994.py:76: SyntaxWarning: invalid escape sequence '\\e'\n",
      "  ws.to(\"cpu\"), result_real, label=f\"T={T} K\" if T else f\"$\\eta = $ {eta:.4f} eV\"\n",
      "C:\\Users\\Patrik\\AppData\\Local\\Temp\\ipykernel_6396\\4046195994.py:83: SyntaxWarning: invalid escape sequence '\\e'\n",
      "  plt.text(0.020, 0.002, f\"$\\eta = $ {eta_0:.4f} $eV$\", fontsize=10)\n",
      "C:\\Users\\Patrik\\AppData\\Local\\Temp\\ipykernel_6396\\4046195994.py:92: SyntaxWarning: invalid escape sequence '\\e'\n",
      "  ax.plot(ws.to(\"cpu\"), result, label=f\"T={T} K\" if T else f\"$\\eta = $ {eta:.5f} eV\")\n"
     ]
    }
   ],
   "source": [
    "ws_0 = torch.arange(0, 1, 0.001)\n",
    "\n",
    "\n",
    "def calculate_integral_points(\n",
    "    mem_fn, real_sum, imag_sum, hbar_w_ph, T=T_0, eta=eta_0, ws=ws_0, u=Kf_20\n",
    "):\n",
    "\n",
    "    result_real = []\n",
    "\n",
    "    result_imag = []\n",
    "\n",
    "    for w in ws:\n",
    "\n",
    "        result_real.append(\n",
    "            mem_fn(\n",
    "                real_sum,\n",
    "                w,\n",
    "                hbar_w_ph,\n",
    "                u,\n",
    "                T=T,\n",
    "                eta=eta,\n",
    "            ).to(\"cpu\")\n",
    "        )\n",
    "\n",
    "        result_imag.append(\n",
    "            mem_fn(\n",
    "                imag_sum,\n",
    "                w,\n",
    "                hbar_w_ph,\n",
    "                u,\n",
    "                T=T,\n",
    "                eta=eta,\n",
    "            ).to(\"cpu\")\n",
    "        )\n",
    "\n",
    "    return result_real, result_imag\n",
    "\n",
    "\n",
    "def setup_plot(real=True, imag=True, x_lim=[0.0, 0.05], y_lim=[0, 0.06]):\n",
    "\n",
    "    fig, ax1 = plt.subplots()\n",
    "\n",
    "    ax1.set_xlabel(r\"$\\hbar \\omega [eV]$\")\n",
    "\n",
    "    if real:\n",
    "\n",
    "        ax1.set_ylabel(r\"$\\hbar Re\\{M_x\\} [eV]$\")\n",
    "\n",
    "    else:\n",
    "\n",
    "        ax1.set_ylabel(r\"$\\hbar Im\\{M_x\\} [eV]$\")\n",
    "\n",
    "    ax1.set_xlim(x_lim)\n",
    "\n",
    "    ax1.set_ylim(y_lim)\n",
    "\n",
    "    ax2 = ax1.twinx()\n",
    "\n",
    "    if imag and real:\n",
    "\n",
    "        ax2.set_ylabel(r\"$\\hbar Im\\{M_x\\} [eV]$\")\n",
    "\n",
    "    ax2.set_xlim(x_lim)\n",
    "\n",
    "    ax2.set_ylim(y_lim)\n",
    "\n",
    "    return fig, ax1, ax2\n",
    "\n",
    "\n",
    "def plot_real_and_imag_result(\n",
    "    ax1, ax2, result_real, result_imag, T=None, eta=None, ws=ws_0\n",
    "):\n",
    "    assert T or eta\n",
    "\n",
    "    ax1.plot(\n",
    "        ws.to(\"cpu\"), result_real, label=f\"T={T} K\" if T else f\"$\\eta = $ {eta:.4f} eV\"\n",
    "    )\n",
    "\n",
    "    ax2.plot(ws.to(\"cpu\"), result_imag)\n",
    "\n",
    "    if T:\n",
    "\n",
    "        plt.text(0.020, 0.002, f\"$\\eta = $ {eta_0:.4f} $eV$\", fontsize=10)\n",
    "\n",
    "    else:\n",
    "\n",
    "        plt.text(0.020, 0.002, f\"T={T_0} K\", fontsize=10)\n",
    "\n",
    "\n",
    "def plot_result(ax, result, T=None, eta=None, ws=ws_0):\n",
    "\n",
    "    ax.plot(ws.to(\"cpu\"), result, label=f\"T={T} K\" if T else f\"$\\eta = $ {eta:.5f} eV\")"
   ]
  },
  {
   "cell_type": "markdown",
   "metadata": {},
   "source": [
    "## Optički fononi\n"
   ]
  },
  {
   "cell_type": "markdown",
   "metadata": {},
   "source": [
    "**Memorijska funkcija**"
   ]
  },
  {
   "cell_type": "code",
   "execution_count": 146,
   "metadata": {},
   "outputs": [],
   "source": [
    "def ss_sum_part(K_, K, hbar_w, hbar_w_ph, T, u, eta):\n",
    "    def summand(s1, s2):\n",
    "        return (\n",
    "            bose_einstein(hbar_w_ph, T) + fermi_dirac(s1 * s2 * eps(K), s1 * s2 * u, T)\n",
    "        ) / (hbar_w + s1 * eps(K_) - s1 * eps(K) + s2 * hbar_w_ph + eta * 1j)\n",
    "\n",
    "    sum = 0\n",
    "    for s1, s2 in itertools.product([-1, 1], [-1, 1]):\n",
    "        sum = sum + summand(s1, s2)\n",
    "    return sum * K**2 * K_**2 * d_fermi_dirac(eps(K_), Ef, T)\n",
    "\n",
    "\n",
    "def ss_sum_real(K_, K, hbar_w, hbar_w_ph, T, u, eta):\n",
    "    return ss_sum_part(K_, K, hbar_w, hbar_w_ph, T, u, eta).real\n",
    "\n",
    "\n",
    "def ss_sum_imag(K_, K, hbar_w, hbar_w_ph, T, u, eta):\n",
    "    return ss_sum_part(K_, K, hbar_w, hbar_w_ph, T, u, eta).imag\n",
    "\n",
    "\n",
    "def mem_fn_op(ss_sum_fn, hbar_w, hbar_w_ph, u, T, eta):\n",
    "    integration_domain = torch.Tensor([[0, Kf_max], [0, Kf_max]])\n",
    "\n",
    "    def integrand(K):\n",
    "        return ss_sum_fn(K[:, 0], K[:, 1], hbar_w, hbar_w_ph, T, u, eta)\n",
    "\n",
    "    integral_k_k_ = tp.integrate(\n",
    "        integrand, dim=2, N=10**6, integration_domain=integration_domain\n",
    "    )\n",
    "\n",
    "    return (\n",
    "        (1 / eff_concetration(T) / a**3 * 2 / (2 * pi) ** 3 * 4 * pi / 3 * vf**2)\n",
    "        * (-G_op2 * 1 / (2 * pi) ** 2 * 2)\n",
    "        * integral_k_k_\n",
    "    )  # one factor 2 for 4\\pi"
   ]
  },
  {
   "cell_type": "code",
   "execution_count": 147,
   "metadata": {},
   "outputs": [
    {
     "name": "stderr",
     "output_type": "stream",
     "text": [
      "C:\\Users\\Patrik\\AppData\\Local\\Temp\\ipykernel_6396\\2467687982.py:6: DeprecationWarning: __array__ implementation doesn't accept a copy keyword, so passing copy=False failed. __array__ must implement 'dtype' and 'copy' keyword arguments.\n",
      "  np.array(ws_0.to(\"cpu\")),\n",
      "C:\\Users\\Patrik\\AppData\\Local\\Temp\\ipykernel_6396\\2467687982.py:11: DeprecationWarning: __array__ implementation doesn't accept a copy keyword, so passing copy=False failed. __array__ must implement 'dtype' and 'copy' keyword arguments.\n",
      "  np.array(ws_0.to(\"cpu\")),\n"
     ]
    },
    {
     "data": {
      "image/png": "[encoded data removed]",
      "text/plain": [
       "<Figure size 640x480 with 2 Axes>"
      ]
     },
     "metadata": {},
     "output_type": "display_data"
    }
   ],
   "source": [
    "fig, *axs = setup_plot(x_lim=[0, 1], y_lim=[0, 0.2])\n",
    "integrals = calculate_integral_points(\n",
    "    mem_fn_op, ss_sum_real, ss_sum_imag, hbar_w_op, T=T_0\n",
    ")\n",
    "arrays_to_csv(\n",
    "    np.array(ws_0.to(\"cpu\")),\n",
    "    np.array(integrals[0]),\n",
    "    f\"op, real, T={T_0}K, eta={eta_0}eV\",\n",
    ")\n",
    "arrays_to_csv(\n",
    "    np.array(ws_0.to(\"cpu\")),\n",
    "    list(np.array(integrals[1])),\n",
    "    f\"op, imag, T={T_0}K, eta={eta_0}eV\",\n",
    ")\n",
    "plot_real_and_imag_result(*axs, *integrals, T=T_0)\n",
    "axs[0].legend(loc=\"best\")\n",
    "fig.tight_layout()"
   ]
  },
  {
   "cell_type": "markdown",
   "metadata": {},
   "source": [
    "## Akustični fononi"
   ]
  },
  {
   "cell_type": "markdown",
   "metadata": {},
   "source": [
    "**Memorijska funkcija**"
   ]
  },
  {
   "cell_type": "code",
   "execution_count": 148,
   "metadata": {},
   "outputs": [],
   "source": [
    "def ss_sum_part_ac(K, theta, phi, hbar_w, hbar_w_ph, T, u, eta):\n",
    "    def summand(s1, s2):\n",
    "        abs_K = torch.sqrt(K**2 + Kf_**2 - 2 * Kf_ * K * cos(theta))\n",
    "        factor = 1 - K * cos(theta) * Ef / eps(K) / Kf_\n",
    "        return (\n",
    "            (\n",
    "                bose_einstein(hbar_w_ph * abs_K, T)\n",
    "                + fermi_dirac(s1 * s2 * eps(K), s1 * s2 * u, T)\n",
    "            )\n",
    "            / (hbar_w + s1 * Ef - s1 * eps(K) + s2 * hbar_w_ph * abs_K + eta * 1j)\n",
    "            * abs_K\n",
    "            * factor\n",
    "        )\n",
    "\n",
    "    sum = 0\n",
    "    for s1, s2 in itertools.product([-1, 1], [-1, 1]):\n",
    "        sum = sum + summand(s1, s2)\n",
    "    return sum * K**2 * sin(theta)\n",
    "\n",
    "\n",
    "def ss_sum_real_ac(K, theta, phi, hbar_w, hbar_w_ph, T, u, eta):\n",
    "    return ss_sum_part_ac(K, theta, phi, hbar_w, hbar_w_ph, T, u, eta).real\n",
    "\n",
    "\n",
    "def ss_sum_imag_ac(K, theta, phi, hbar_w, hbar_w_ph, T, u, eta):\n",
    "    return ss_sum_part_ac(K, theta, phi, hbar_w, hbar_w_ph, T, u, eta).imag\n",
    "\n",
    "\n",
    "\n",
    "def mem_fn_ac(ss_sum_fn, hbar_w, hbar_w_ph, u, T, eta):\n",
    "\n",
    "    integration_domain = torch.Tensor([[0, Kf_ * 6], [0, pi], [0, 2 * pi]])\n",
    "\n",
    "    def integrand(K):\n",
    "\n",
    "\n",
    "        return ss_sum_fn(K[:, 0], K[:, 1], K[:, 2], hbar_w, hbar_w_ph, T, u, eta)\n",
    "\n",
    "\n",
    "    integral_k_theta_phi = tp.integrate(\n",
    "        integrand, dim=3, N=10**7, integration_domain=integration_domain\n",
    "    )\n",
    "\n",
    "\n",
    "    return -G_ac2 * integral_k_theta_phi / (2 * pi) ** 3"
   ]
  },
  {
   "cell_type": "code",
   "execution_count": null,
   "metadata": {},
   "outputs": [
    {
     "name": "stderr",
     "output_type": "stream",
     "text": [
      "c:\\Users\\Patrik\\AppData\\Local\\Programs\\Python\\Python312\\Lib\\site-packages\\torchquad\\integration\\utils.py:248: UserWarning: DEPRECATION WARNING: In future versions of torchquad, an array-like object will be returned.\n",
      "  warnings.warn(\n"
     ]
    }
   ],
   "source": [
    "fig, *axs = setup_plot(y_lim=[0, 0.01])\n",
    "integrals = calculate_integral_points(\n",
    "    mem_fn_ac,\n",
    "    ss_sum_real_ac,\n",
    "    ss_sum_imag_ac,\n",
    "    hbar_w_ac_max,\n",
    "    T=T_0,\n",
    "    ws=ws_0,\n",
    ")\n",
    "plot_real_and_imag_result(*axs, *integrals, T=T_0, ws=ws_0)\n",
    "axs[0].legend(loc=\"best\")\n",
    "fig.tight_layout()"
   ]
  }
 ],
 "metadata": {
  "kernelspec": {
   "display_name": "Python 3",
   "language": "python",
   "name": "python3"
  },
  "language_info": {
   "codemirror_mode": {
    "name": "ipython",
    "version": 3
   },
   "file_extension": ".py",
   "mimetype": "text/x-python",
   "name": "python",
   "nbconvert_exporter": "python",
   "pygments_lexer": "ipython3",
   "version": "3.12.7"
  }
 },
 "nbformat": 4,
 "nbformat_minor": 2
}
